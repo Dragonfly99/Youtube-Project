{
 "cells": [
  {
   "cell_type": "markdown",
   "metadata": {},
   "source": [
    "source: https://www.kaggle.com/hoonkeng/deep-analysis-on-youtube-trending-videos-eda/notebook\n"
   ]
  },
  {
   "cell_type": "code",
   "execution_count": 2,
   "metadata": {},
   "outputs": [],
   "source": [
    "import os\n",
    "import pandas as pd\n",
    "import seaborn as sns\n",
    "import matplotlib.pyplot as plt"
   ]
  },
  {
   "cell_type": "code",
   "execution_count": 3,
   "metadata": {},
   "outputs": [
    {
     "name": "stdout",
     "output_type": "stream",
     "text": [
      " Volume in drive C is Windows\n",
      " Volume Serial Number is 5EBE-CD33\n",
      "\n",
      " Directory of C:\\Users\\kerrs\\Desktop\n",
      "\n",
      "09/23/2019  03:52 PM    <DIR>          .\n",
      "09/23/2019  03:52 PM    <DIR>          ..\n",
      "09/21/2019  04:22 PM    <DIR>          .ipynb_checkpoints\n",
      "09/23/2019  09:44 AM            12,248 11Sept_exercises-clean.ipynb\n",
      "09/22/2019  03:06 PM            20,651 16Sept_Practice_Problems-clean.ipynb\n",
      "09/20/2019  08:44 PM            28,780 16Sept_Practice_Problems-solved.ipynb\n",
      "09/18/2019  11:13 AM    <DIR>          2016-new-coder-survey-\n",
      "09/01/2019  07:33 PM         2,746,416 Blockchain Revolution ( PDFDrive.com ).pdf\n",
      "08/06/2019  05:56 PM         3,942,436 bookmarks.html\n",
      "09/22/2019  04:24 PM           189,032 Cannabis_Stocks.PNG\n",
      "08/06/2019  06:10 PM    <DIR>          Data\n",
      "09/23/2019  03:48 PM    <DIR>          Data-files\n",
      "08/25/2019  02:41 PM         3,036,296 definitive-guide-to-marketing-metrics-marketing-analytics.pdf\n",
      "09/16/2019  11:27 AM             3,067 Dictionary_Exercises.txt\n",
      "09/17/2019  09:15 AM           371,791 dvdrentalsubwaymap.jpg\n",
      "09/19/2019  09:36 AM    <DIR>          Galvanize_Data\n",
      "08/27/2019  07:34 PM    <DIR>          Games\n",
      "09/03/2019  06:38 PM       144,377,288 GitKrakenSetup.exe\n",
      "09/13/2019  11:53 AM               931 Git_Commands.txt\n",
      "09/16/2019  09:36 AM    <DIR>          Git_proj\n",
      "08/25/2019  02:40 PM    <DIR>          helpful\n",
      "09/19/2019  10:13 PM    <DIR>          Jupyter_Notebooks\n",
      "09/23/2019  10:40 AM            13,382 Kerry Python practice 2.ipynb\n",
      "09/06/2019  11:22 AM               592 Loading_Data.txt\n",
      "09/23/2019  01:43 PM               457 Logs.txt\n",
      "08/06/2019  05:22 PM    <DIR>          Math Fundamentals\n",
      "07/30/2019  12:54 PM             1,446 Microsoft Edge.lnk\n",
      "08/06/2019  05:20 PM    <DIR>          MyWebsite\n",
      "08/24/2019  09:58 PM           436,766 Notes - Complete Digital Marketing Course.pdf\n",
      "09/06/2019  09:13 AM    <DIR>          Old Firefox Data\n",
      "09/17/2019  11:19 AM    <DIR>          PandasTest\n",
      "08/18/2019  04:23 PM    <DIR>          PDFs\n",
      "08/16/2019  09:38 AM             1,247 pgAdmin 4.lnk\n",
      "08/06/2019  05:21 PM    <DIR>          ProbabiltyandStatisticswithR\n",
      "09/11/2019  09:57 AM            14,119 Python-Practice-2.ipynb\n",
      "09/21/2019  11:45 AM            12,295 python-review-2-questions-carlene.ipynb\n",
      "09/20/2019  07:26 PM            12,398 python-review-2-solutions.ipynb\n",
      "09/20/2019  02:29 PM            18,439 python-review.ipynb\n",
      "09/20/2019  02:28 PM            12,945 python-review1.ipynb\n",
      "09/12/2019  09:52 PM        77,928,794 renpy-7.3.2-sdk.7z.exe\n",
      "08/10/2019  05:50 PM               948 RStudio.lnk\n",
      "08/25/2019  02:39 PM    <DIR>          R_Pdfs\n",
      "08/06/2019  05:21 PM    <DIR>          R_Projects\n",
      "06/18/2019  11:44 PM    <DIR>          Statistics with R\n",
      "09/11/2019  09:02 AM               352 Try out this program!.py\n",
      "09/23/2019  12:02 PM    <DIR>          TTP-Python-Assessment\n",
      "09/22/2019  06:39 PM    <DIR>          ttp_S20_warmup\n",
      "09/23/2019  01:52 PM               890 Untitled.txt\n",
      "08/16/2019  09:23 PM             1,407 Visual Studio Code.lnk\n",
      "09/20/2019  02:27 PM               664 Warmup4.sql\n",
      "09/18/2019  06:46 PM               198 WarmupSQL2.sql\n",
      "09/23/2019  03:53 PM    <DIR>          Youtube-Project\n",
      "09/23/2019  03:41 PM    <DIR>          Youtube-Project1\n",
      "              29 File(s)    233,186,275 bytes\n",
      "              24 Dir(s)  923,585,847,296 bytes free\n"
     ]
    }
   ],
   "source": [
    "!dir ..\n"
   ]
  },
  {
   "cell_type": "code",
   "execution_count": 3,
   "metadata": {},
   "outputs": [],
   "source": [
    "df = pd.read_csv(r\"C:\\Users\\kerrs\\Desktop\\Data-files\\dataframe.csv\")\n",
    "df_all_timestamps = pd.read_csv(r\"C:\\Users\\kerrs\\Desktop\\Data-files\\dataframe_all_timestamps.csv\")"
   ]
  },
  {
   "cell_type": "code",
   "execution_count": null,
   "metadata": {},
   "outputs": [],
   "source": []
  },
  {
   "cell_type": "code",
   "execution_count": null,
   "metadata": {},
   "outputs": [],
   "source": []
  },
  {
   "cell_type": "code",
   "execution_count": 4,
   "metadata": {},
   "outputs": [],
   "source": [
    "import numpy as np\n",
    "\n",
    "df.loc[:,'log_views'] = np.log(df.loc[:,'views']+1)\n",
    "df.loc[:,'log_likes'] = np.log(df.loc[:,'likes']+1)\n",
    "df.loc[:,'log_dislikes'] = np.log(df.loc[:,'dislikes']+1)\n",
    "df.loc[:,'log_comment_count'] = np.log(df.loc[:,'comment_count']+1)\n",
    "\n",
    "#show all columns\n",
    "pd.set_option('display.max_columns', 100)"
   ]
  },
  {
   "cell_type": "code",
   "execution_count": 5,
   "metadata": {},
   "outputs": [],
   "source": [
    "def stringify(row):\n",
    "    return str(row['publish_date']) + ' ' + str(row['publish_time'])\n",
    "\n",
    "df_all_timestamps.loc[:,'string_date_time'] = \\\n",
    "                            df_all_timestamps.apply(stringify, axis=1)\n",
    "\n",
    "df_all_timestamps.loc[:,'publish_timestamp'] = \\\n",
    "                pd.to_datetime(df_all_timestamps['string_date_time'],\n",
    "                                infer_datetime_format=True,\n",
    "                                errors='coerce')\n",
    "\n",
    "df_all_timestamps = df_all_timestamps.drop('string_date_time', axis=1)\n",
    "\n",
    "\n",
    "#make a new column in df called 'publish_timestamp' \n",
    "#that is a datetime object\n",
    "\n",
    "df.loc[:,'string_date_time'] = df.apply(stringify, axis=1)\n",
    "df.loc[:,'publish_timestamp'] = \\\n",
    "                pd.to_datetime(df['string_date_time'],\n",
    "                                infer_datetime_format=True,\n",
    "                                errors='coerce')\n",
    "df = df.drop('string_date_time', axis=1)"
   ]
  },
  {
   "cell_type": "code",
   "execution_count": 13,
   "metadata": {},
   "outputs": [
    {
     "name": "stdout",
     "output_type": "stream",
     "text": [
      "<class 'pandas.core.frame.DataFrame'>\n",
      "RangeIndex: 171149 entries, 0 to 171148\n",
      "Data columns (total 24 columns):\n",
      "video_id                  171149 non-null object\n",
      "trending_date             171149 non-null object\n",
      "title                     171149 non-null object\n",
      "channel_title             171149 non-null object\n",
      "category_id               171149 non-null int64\n",
      "category                  171149 non-null object\n",
      "publish_date              171149 non-null object\n",
      "publish_time              171149 non-null object\n",
      "tags                      171149 non-null object\n",
      "views                     171149 non-null int64\n",
      "likes                     171149 non-null int64\n",
      "dislikes                  171149 non-null int64\n",
      "comment_count             171149 non-null int64\n",
      "thumbnail_link            171149 non-null object\n",
      "comments_disabled         171149 non-null bool\n",
      "ratings_disabled          171149 non-null bool\n",
      "video_error_or_removed    171149 non-null bool\n",
      "description               171149 non-null object\n",
      "country                   171149 non-null object\n",
      "log_views                 171149 non-null float64\n",
      "log_likes                 171149 non-null float64\n",
      "log_dislikes              171149 non-null float64\n",
      "log_comment_count         171149 non-null float64\n",
      "publish_timestamp         171149 non-null datetime64[ns]\n",
      "dtypes: bool(3), datetime64[ns](1), float64(4), int64(5), object(11)\n",
      "memory usage: 27.9+ MB\n"
     ]
    }
   ],
   "source": [
    "df.info()"
   ]
  },
  {
   "cell_type": "code",
   "execution_count": 7,
   "metadata": {},
   "outputs": [],
   "source": [
    "import pandasql as ps"
   ]
  },
  {
   "cell_type": "code",
   "execution_count": 9,
   "metadata": {},
   "outputs": [],
   "source": [
    "pysqldf = lambda q: sqldf(q, globals())"
   ]
  },
  {
   "cell_type": "code",
   "execution_count": 18,
   "metadata": {},
   "outputs": [],
   "source": [
    "q1 = \"SELECT * FROM df WHERE title LIKE  '%Game of Thrones%' LIMIT 10;\""
   ]
  },
  {
   "cell_type": "code",
   "execution_count": 20,
   "metadata": {},
   "outputs": [],
   "source": [
    "q2 = \"SELECT * FROM df WHERE title LIKE  '%Steven Universe%' LIMIT 10;\""
   ]
  },
  {
   "cell_type": "code",
   "execution_count": 24,
   "metadata": {},
   "outputs": [
    {
     "name": "stdout",
     "output_type": "stream",
     "text": [
      "      video_id trending_date  \\\n",
      "0  QC9YKyu2J9Y    2018-01-26   \n",
      "1  CFRpBoFeKSQ    2018-02-26   \n",
      "2  4kFywSnB8ao    2018-03-26   \n",
      "3  59grb198Yis    2018-03-28   \n",
      "4  La3KKixHSgY    2018-04-22   \n",
      "5  p1pH42zrq9A    2018-04-25   \n",
      "6  aG5X7L9K15Q    2018-05-02   \n",
      "7  15Rgx-B8ao0    2018-05-02   \n",
      "8  KlrrfkcCMBo    2018-05-02   \n",
      "9  QA-TmvSWj0o    2018-05-08   \n",
      "\n",
      "                                               title  \\\n",
      "0  El vídeo PROHIBIDO de STEVEN UNIVERSE | Jamás ...   \n",
      "1               Steven Universe Fan Chat con Alfrely   \n",
      "2                     Ghost (Song) | Steven Universe   \n",
      "3  Steven Universe | El nacimiendo de las Crystal...   \n",
      "4  Steven Universe | El Pasado De Perla | Fly Me ...   \n",
      "5  REVELADO! | COMO DIAMANTE ROSA ESTA VIVA! | ST...   \n",
      "6  (Steven Universe Fan Animation) Your Mother An...   \n",
      "7  Steven Universe | Yellow and Blue Diamond On E...   \n",
      "8  (MEGA SPOILER Leaks) Bismuth, Diamonds, etc「St...   \n",
      "9  Steven Universe - That Distant Shore (Latin Am...   \n",
      "\n",
      "                               channel_title  category_id          category  \\\n",
      "0  The Youman Show - EL CANAL DE LAS LOCURAS           24     Entertainment   \n",
      "1                         Cartoon Network LA           24     Entertainment   \n",
      "2                           Ford in a Bikini           10             Music   \n",
      "3                             Alan Quartz C.           24     Entertainment   \n",
      "4                           Rosedot Universe           22    People & Blogs   \n",
      "5                              Skary Station           24     Entertainment   \n",
      "6                              Amazonite 7XG            1  Film & Animation   \n",
      "7                           Rosedot Universe           22    People & Blogs   \n",
      "8                                   Aesio 91            1  Film & Animation   \n",
      "9                       Alfonso Dingo Torres           10             Music   \n",
      "\n",
      "  publish_date publish_time  \\\n",
      "0   2018-01-26     00:45:00   \n",
      "1   2018-02-24     22:47:54   \n",
      "2   2018-03-26     03:55:51   \n",
      "3   2018-03-26     15:19:31   \n",
      "4   2018-04-22     00:49:52   \n",
      "5   2018-04-25     01:06:26   \n",
      "6   2018-05-01     15:48:00   \n",
      "7   2018-05-01     22:40:15   \n",
      "8   2018-05-01     21:17:08   \n",
      "9   2018-05-08     00:28:57   \n",
      "\n",
      "                                                tags   views  likes  dislikes  \\\n",
      "0  youman|\"the youman\"|\"steven\"|\"universe\"|\"steve...  103571  15839       298   \n",
      "1                                             [none]  245608  16211      1008   \n",
      "2           VideoStarApp|\"vs7.1.3\"|\"Steven Universe\"   59429   2798        69   \n",
      "3  Pink diamond|\"diamante rosa\"|\"rose cuarzo\"|\"ro...  494276   7656       280   \n",
      "4                                             [none]    8102    415        19   \n",
      "5  steven|\"universe\"|\"steven universe\"|\"Skary Sta...   34261   1390       178   \n",
      "6                                             [none]   22427   1053        17   \n",
      "7                                             [none]   28066   1076        33   \n",
      "8  steven universe new episodes|\"steven univese n...   35343   1378        29   \n",
      "9  Steven Universe - That Distant Shore (Latin Am...   15227    904         2   \n",
      "\n",
      "   comment_count                                  thumbnail_link  \\\n",
      "0           1195  https://i.ytimg.com/vi/QC9YKyu2J9Y/default.jpg   \n",
      "1           3199  https://i.ytimg.com/vi/CFRpBoFeKSQ/default.jpg   \n",
      "2            337  https://i.ytimg.com/vi/4kFywSnB8ao/default.jpg   \n",
      "3            473  https://i.ytimg.com/vi/59grb198Yis/default.jpg   \n",
      "4             80  https://i.ytimg.com/vi/La3KKixHSgY/default.jpg   \n",
      "5            277  https://i.ytimg.com/vi/p1pH42zrq9A/default.jpg   \n",
      "6            109  https://i.ytimg.com/vi/aG5X7L9K15Q/default.jpg   \n",
      "7            353  https://i.ytimg.com/vi/15Rgx-B8ao0/default.jpg   \n",
      "8            398  https://i.ytimg.com/vi/KlrrfkcCMBo/default.jpg   \n",
      "9            107  https://i.ytimg.com/vi/QA-TmvSWj0o/default.jpg   \n",
      "\n",
      "   comments_disabled  ratings_disabled  video_error_or_removed  \\\n",
      "0                  0                 0                       0   \n",
      "1                  0                 0                       0   \n",
      "2                  0                 0                       0   \n",
      "3                  0                 0                       0   \n",
      "4                  0                 0                       0   \n",
      "5                  0                 0                       0   \n",
      "6                  0                 0                       0   \n",
      "7                  0                 0                       0   \n",
      "8                  0                 0                       0   \n",
      "9                  0                 0                       0   \n",
      "\n",
      "                                         description country  log_views  \\\n",
      "0  Dale al botón de like para mas vídeos!! Recuer...      MX  11.548022   \n",
      "1  ¡Acompáñanos en nuestro Steven Universe Live c...      MX  12.411496   \n",
      "2  FOLLOW ME ON MY OTHER SOCIAL MEDIA:\\n\\nTwitter...      MX  10.992554   \n",
      "3  Historia del capítulo Your Mother And Mine (Tu...      MX  13.110851   \n",
      "4  Perla!!!\\n\\nRedes sociales sigueme 7w7\\n* Yout...      MX   8.999990   \n",
      "5  Sígueme en Twitter como: \\nhttps://twitter.com...      MX  10.441792   \n",
      "6            Your Mother and mine / Tu mamá y la mía      MX  10.018065   \n",
      "7  Chicos salio una filtración!!!\\nQue salio en u...      MX  10.242350   \n",
      "8  OKEY, alguien me dijo que este video le había ...      MX  10.472884   \n",
      "9  Audio provided by TWOSU:http://worldofsteven.com/      MX   9.630891   \n",
      "\n",
      "   log_likes  log_dislikes  log_comment_count           publish_timestamp  \n",
      "0   9.670294      5.700444           7.086738  2018-01-26 00:45:00.000000  \n",
      "1   9.693507      6.916715           8.070906  2018-02-24 22:47:54.000000  \n",
      "2   7.937017      4.248495           5.823046  2018-03-26 03:55:51.000000  \n",
      "3   8.943376      5.638355           6.161207  2018-03-26 15:19:31.000000  \n",
      "4   6.030685      2.995732           4.394449  2018-04-22 00:49:52.000000  \n",
      "5   7.237778      5.187386           5.627621  2018-04-25 01:06:26.000000  \n",
      "6   6.960348      2.890372           4.700480  2018-05-01 15:48:00.000000  \n",
      "7   6.981935      3.526361           5.869297  2018-05-01 22:40:15.000000  \n",
      "8   7.229114      3.401197           5.988961  2018-05-01 21:17:08.000000  \n",
      "9   6.807935      1.098612           4.682131  2018-05-08 00:28:57.000000  \n"
     ]
    }
   ],
   "source": [
    "print(ps.sqldf(q2, locals()))"
   ]
  },
  {
   "cell_type": "code",
   "execution_count": 22,
   "metadata": {},
   "outputs": [],
   "source": [
    "SU  = ps.sqldf(q2, locals())"
   ]
  },
  {
   "cell_type": "code",
   "execution_count": 23,
   "metadata": {},
   "outputs": [
    {
     "data": {
      "text/html": [
       "<div>\n",
       "<style scoped>\n",
       "    .dataframe tbody tr th:only-of-type {\n",
       "        vertical-align: middle;\n",
       "    }\n",
       "\n",
       "    .dataframe tbody tr th {\n",
       "        vertical-align: top;\n",
       "    }\n",
       "\n",
       "    .dataframe thead th {\n",
       "        text-align: right;\n",
       "    }\n",
       "</style>\n",
       "<table border=\"1\" class=\"dataframe\">\n",
       "  <thead>\n",
       "    <tr style=\"text-align: right;\">\n",
       "      <th></th>\n",
       "      <th>video_id</th>\n",
       "      <th>trending_date</th>\n",
       "      <th>title</th>\n",
       "      <th>channel_title</th>\n",
       "      <th>category_id</th>\n",
       "      <th>category</th>\n",
       "      <th>publish_date</th>\n",
       "      <th>publish_time</th>\n",
       "      <th>tags</th>\n",
       "      <th>views</th>\n",
       "      <th>likes</th>\n",
       "      <th>dislikes</th>\n",
       "      <th>comment_count</th>\n",
       "      <th>thumbnail_link</th>\n",
       "      <th>comments_disabled</th>\n",
       "      <th>ratings_disabled</th>\n",
       "      <th>video_error_or_removed</th>\n",
       "      <th>description</th>\n",
       "      <th>country</th>\n",
       "      <th>log_views</th>\n",
       "      <th>log_likes</th>\n",
       "      <th>log_dislikes</th>\n",
       "      <th>log_comment_count</th>\n",
       "      <th>publish_timestamp</th>\n",
       "    </tr>\n",
       "  </thead>\n",
       "  <tbody>\n",
       "    <tr>\n",
       "      <td>0</td>\n",
       "      <td>QC9YKyu2J9Y</td>\n",
       "      <td>2018-01-26</td>\n",
       "      <td>El vídeo PROHIBIDO de STEVEN UNIVERSE | Jamás ...</td>\n",
       "      <td>The Youman Show - EL CANAL DE LAS LOCURAS</td>\n",
       "      <td>24</td>\n",
       "      <td>Entertainment</td>\n",
       "      <td>2018-01-26</td>\n",
       "      <td>00:45:00</td>\n",
       "      <td>youman|\"the youman\"|\"steven\"|\"universe\"|\"steve...</td>\n",
       "      <td>103571</td>\n",
       "      <td>15839</td>\n",
       "      <td>298</td>\n",
       "      <td>1195</td>\n",
       "      <td>https://i.ytimg.com/vi/QC9YKyu2J9Y/default.jpg</td>\n",
       "      <td>0</td>\n",
       "      <td>0</td>\n",
       "      <td>0</td>\n",
       "      <td>Dale al botón de like para mas vídeos!! Recuer...</td>\n",
       "      <td>MX</td>\n",
       "      <td>11.548022</td>\n",
       "      <td>9.670294</td>\n",
       "      <td>5.700444</td>\n",
       "      <td>7.086738</td>\n",
       "      <td>2018-01-26 00:45:00.000000</td>\n",
       "    </tr>\n",
       "    <tr>\n",
       "      <td>1</td>\n",
       "      <td>CFRpBoFeKSQ</td>\n",
       "      <td>2018-02-26</td>\n",
       "      <td>Steven Universe Fan Chat con Alfrely</td>\n",
       "      <td>Cartoon Network LA</td>\n",
       "      <td>24</td>\n",
       "      <td>Entertainment</td>\n",
       "      <td>2018-02-24</td>\n",
       "      <td>22:47:54</td>\n",
       "      <td>[none]</td>\n",
       "      <td>245608</td>\n",
       "      <td>16211</td>\n",
       "      <td>1008</td>\n",
       "      <td>3199</td>\n",
       "      <td>https://i.ytimg.com/vi/CFRpBoFeKSQ/default.jpg</td>\n",
       "      <td>0</td>\n",
       "      <td>0</td>\n",
       "      <td>0</td>\n",
       "      <td>¡Acompáñanos en nuestro Steven Universe Live c...</td>\n",
       "      <td>MX</td>\n",
       "      <td>12.411496</td>\n",
       "      <td>9.693507</td>\n",
       "      <td>6.916715</td>\n",
       "      <td>8.070906</td>\n",
       "      <td>2018-02-24 22:47:54.000000</td>\n",
       "    </tr>\n",
       "    <tr>\n",
       "      <td>2</td>\n",
       "      <td>4kFywSnB8ao</td>\n",
       "      <td>2018-03-26</td>\n",
       "      <td>Ghost (Song) | Steven Universe</td>\n",
       "      <td>Ford in a Bikini</td>\n",
       "      <td>10</td>\n",
       "      <td>Music</td>\n",
       "      <td>2018-03-26</td>\n",
       "      <td>03:55:51</td>\n",
       "      <td>VideoStarApp|\"vs7.1.3\"|\"Steven Universe\"</td>\n",
       "      <td>59429</td>\n",
       "      <td>2798</td>\n",
       "      <td>69</td>\n",
       "      <td>337</td>\n",
       "      <td>https://i.ytimg.com/vi/4kFywSnB8ao/default.jpg</td>\n",
       "      <td>0</td>\n",
       "      <td>0</td>\n",
       "      <td>0</td>\n",
       "      <td>FOLLOW ME ON MY OTHER SOCIAL MEDIA:\\n\\nTwitter...</td>\n",
       "      <td>MX</td>\n",
       "      <td>10.992554</td>\n",
       "      <td>7.937017</td>\n",
       "      <td>4.248495</td>\n",
       "      <td>5.823046</td>\n",
       "      <td>2018-03-26 03:55:51.000000</td>\n",
       "    </tr>\n",
       "    <tr>\n",
       "      <td>3</td>\n",
       "      <td>59grb198Yis</td>\n",
       "      <td>2018-03-28</td>\n",
       "      <td>Steven Universe | El nacimiendo de las Crystal...</td>\n",
       "      <td>Alan Quartz C.</td>\n",
       "      <td>24</td>\n",
       "      <td>Entertainment</td>\n",
       "      <td>2018-03-26</td>\n",
       "      <td>15:19:31</td>\n",
       "      <td>Pink diamond|\"diamante rosa\"|\"rose cuarzo\"|\"ro...</td>\n",
       "      <td>494276</td>\n",
       "      <td>7656</td>\n",
       "      <td>280</td>\n",
       "      <td>473</td>\n",
       "      <td>https://i.ytimg.com/vi/59grb198Yis/default.jpg</td>\n",
       "      <td>0</td>\n",
       "      <td>0</td>\n",
       "      <td>0</td>\n",
       "      <td>Historia del capítulo Your Mother And Mine (Tu...</td>\n",
       "      <td>MX</td>\n",
       "      <td>13.110851</td>\n",
       "      <td>8.943376</td>\n",
       "      <td>5.638355</td>\n",
       "      <td>6.161207</td>\n",
       "      <td>2018-03-26 15:19:31.000000</td>\n",
       "    </tr>\n",
       "    <tr>\n",
       "      <td>4</td>\n",
       "      <td>La3KKixHSgY</td>\n",
       "      <td>2018-04-22</td>\n",
       "      <td>Steven Universe | El Pasado De Perla | Fly Me ...</td>\n",
       "      <td>Rosedot Universe</td>\n",
       "      <td>22</td>\n",
       "      <td>People &amp; Blogs</td>\n",
       "      <td>2018-04-22</td>\n",
       "      <td>00:49:52</td>\n",
       "      <td>[none]</td>\n",
       "      <td>8102</td>\n",
       "      <td>415</td>\n",
       "      <td>19</td>\n",
       "      <td>80</td>\n",
       "      <td>https://i.ytimg.com/vi/La3KKixHSgY/default.jpg</td>\n",
       "      <td>0</td>\n",
       "      <td>0</td>\n",
       "      <td>0</td>\n",
       "      <td>Perla!!!\\n\\nRedes sociales sigueme 7w7\\n* Yout...</td>\n",
       "      <td>MX</td>\n",
       "      <td>8.999990</td>\n",
       "      <td>6.030685</td>\n",
       "      <td>2.995732</td>\n",
       "      <td>4.394449</td>\n",
       "      <td>2018-04-22 00:49:52.000000</td>\n",
       "    </tr>\n",
       "  </tbody>\n",
       "</table>\n",
       "</div>"
      ],
      "text/plain": [
       "      video_id trending_date  \\\n",
       "0  QC9YKyu2J9Y    2018-01-26   \n",
       "1  CFRpBoFeKSQ    2018-02-26   \n",
       "2  4kFywSnB8ao    2018-03-26   \n",
       "3  59grb198Yis    2018-03-28   \n",
       "4  La3KKixHSgY    2018-04-22   \n",
       "\n",
       "                                               title  \\\n",
       "0  El vídeo PROHIBIDO de STEVEN UNIVERSE | Jamás ...   \n",
       "1               Steven Universe Fan Chat con Alfrely   \n",
       "2                     Ghost (Song) | Steven Universe   \n",
       "3  Steven Universe | El nacimiendo de las Crystal...   \n",
       "4  Steven Universe | El Pasado De Perla | Fly Me ...   \n",
       "\n",
       "                               channel_title  category_id        category  \\\n",
       "0  The Youman Show - EL CANAL DE LAS LOCURAS           24   Entertainment   \n",
       "1                         Cartoon Network LA           24   Entertainment   \n",
       "2                           Ford in a Bikini           10           Music   \n",
       "3                             Alan Quartz C.           24   Entertainment   \n",
       "4                           Rosedot Universe           22  People & Blogs   \n",
       "\n",
       "  publish_date publish_time  \\\n",
       "0   2018-01-26     00:45:00   \n",
       "1   2018-02-24     22:47:54   \n",
       "2   2018-03-26     03:55:51   \n",
       "3   2018-03-26     15:19:31   \n",
       "4   2018-04-22     00:49:52   \n",
       "\n",
       "                                                tags   views  likes  dislikes  \\\n",
       "0  youman|\"the youman\"|\"steven\"|\"universe\"|\"steve...  103571  15839       298   \n",
       "1                                             [none]  245608  16211      1008   \n",
       "2           VideoStarApp|\"vs7.1.3\"|\"Steven Universe\"   59429   2798        69   \n",
       "3  Pink diamond|\"diamante rosa\"|\"rose cuarzo\"|\"ro...  494276   7656       280   \n",
       "4                                             [none]    8102    415        19   \n",
       "\n",
       "   comment_count                                  thumbnail_link  \\\n",
       "0           1195  https://i.ytimg.com/vi/QC9YKyu2J9Y/default.jpg   \n",
       "1           3199  https://i.ytimg.com/vi/CFRpBoFeKSQ/default.jpg   \n",
       "2            337  https://i.ytimg.com/vi/4kFywSnB8ao/default.jpg   \n",
       "3            473  https://i.ytimg.com/vi/59grb198Yis/default.jpg   \n",
       "4             80  https://i.ytimg.com/vi/La3KKixHSgY/default.jpg   \n",
       "\n",
       "   comments_disabled  ratings_disabled  video_error_or_removed  \\\n",
       "0                  0                 0                       0   \n",
       "1                  0                 0                       0   \n",
       "2                  0                 0                       0   \n",
       "3                  0                 0                       0   \n",
       "4                  0                 0                       0   \n",
       "\n",
       "                                         description country  log_views  \\\n",
       "0  Dale al botón de like para mas vídeos!! Recuer...      MX  11.548022   \n",
       "1  ¡Acompáñanos en nuestro Steven Universe Live c...      MX  12.411496   \n",
       "2  FOLLOW ME ON MY OTHER SOCIAL MEDIA:\\n\\nTwitter...      MX  10.992554   \n",
       "3  Historia del capítulo Your Mother And Mine (Tu...      MX  13.110851   \n",
       "4  Perla!!!\\n\\nRedes sociales sigueme 7w7\\n* Yout...      MX   8.999990   \n",
       "\n",
       "   log_likes  log_dislikes  log_comment_count           publish_timestamp  \n",
       "0   9.670294      5.700444           7.086738  2018-01-26 00:45:00.000000  \n",
       "1   9.693507      6.916715           8.070906  2018-02-24 22:47:54.000000  \n",
       "2   7.937017      4.248495           5.823046  2018-03-26 03:55:51.000000  \n",
       "3   8.943376      5.638355           6.161207  2018-03-26 15:19:31.000000  \n",
       "4   6.030685      2.995732           4.394449  2018-04-22 00:49:52.000000  "
      ]
     },
     "execution_count": 23,
     "metadata": {},
     "output_type": "execute_result"
    }
   ],
   "source": [
    "SU.head()"
   ]
  },
  {
   "cell_type": "code",
   "execution_count": 19,
   "metadata": {},
   "outputs": [
    {
     "name": "stdout",
     "output_type": "stream",
     "text": [
      "      video_id trending_date  \\\n",
      "0  LfAZtfAqpxc    2017-11-15   \n",
      "1  UrhqmMRv1gQ    2017-11-29   \n",
      "2  LctCTZKdO18    2017-12-15   \n",
      "3  HdCPQk0jj3k    2017-12-22   \n",
      "4  siJKkohoFLg    2018-01-06   \n",
      "5  Eq6ijRAJRRs    2018-01-07   \n",
      "6  yuRppUasjes    2018-01-09   \n",
      "7  Uj6iT_zQTk8    2018-01-15   \n",
      "8  CSxaVoBXwNI    2018-01-19   \n",
      "9  NkgW3SLLZgU    2018-01-25   \n",
      "\n",
      "                                               title  \\\n",
      "0  Das neue Game of Thrones? Amazon plant Herr de...   \n",
      "1  Rhaegar: was Jon’s father the true hero of Gam...   \n",
      "2              Knightfall: The Next Game of Thrones?   \n",
      "3           J'ai pas vu Game of Thrones - Vlogmas 21   \n",
      "4  TRENDING 5 ENERO - JUKILOP 5M, ¿DE DÓNDE VIENE...   \n",
      "5  Game of Thrones saison 8 Théories et infos sur...   \n",
      "6  GAME OF THRONES: Staffel 8 erst 2019 | STAR WA...   \n",
      "7  Maisie Williams Reveals Arya Stark's Game of T...   \n",
      "8  Game of Thrones meets Castlevania & Wer ist ei...   \n",
      "9  Jason Momoa Struggled to Book Gigs After Game ...   \n",
      "\n",
      "                            channel_title  category_id          category  \\\n",
      "0                                 WALULIS           24     Entertainment   \n",
      "1                             Alt Shift X           27         Education   \n",
      "2                          Preston Jacobs           24     Entertainment   \n",
      "3                           FabienOlicard           24     Entertainment   \n",
      "4                        Eliot Channel Mx           24     Entertainment   \n",
      "5                         Captain Popcorn           24     Entertainment   \n",
      "6                           diefilmfabrik            1  Film & Animation   \n",
      "7                  The Graham Norton Show           24     Entertainment   \n",
      "8                             DoktorFroid           20            Gaming   \n",
      "9  The Tonight Show Starring Jimmy Fallon           23            Comedy   \n",
      "\n",
      "  publish_date publish_time  \\\n",
      "0   2017-11-14     17:58:46   \n",
      "1   2017-11-27     16:36:36   \n",
      "2   2017-12-04     15:00:58   \n",
      "3   2017-12-21     05:00:00   \n",
      "4   2018-01-06     02:00:03   \n",
      "5   2018-01-06     21:30:51   \n",
      "6   2018-01-08     16:00:07   \n",
      "7   2018-01-12     17:44:12   \n",
      "8   2018-01-16     13:00:00   \n",
      "9   2018-01-23     13:00:02   \n",
      "\n",
      "                                                tags   views  likes  dislikes  \\\n",
      "0  walulis sieht fern|\"philipp walulis\"|\"herr der...   65926   5166        62   \n",
      "1  A Song of Ice and Fire|\"asoiaf\"|\"Game of Thron...  330456  16545       207   \n",
      "2                           Knightfall|\"#Knightfall\"   65556   1984       100   \n",
      "3  Game of thrones\"|\"comprendre\"|\"apprendre\"|\"hum...   34002   2668        59   \n",
      "4  noticias|\"tendencias\"|\"redes sociales\"|\"trendi...  134808  10586       104   \n",
      "5  Game of Thrones saison 8\"|\"Game of Thrones\"|\"G...   22792   5995        21   \n",
      "6  game of thrones|\"game of thrones season 8\"|\"ga...   37219   2639        18   \n",
      "7  Graham Norton|\"Graham Norton Show Official\"|\"E...  439356   6850        50   \n",
      "8  Random Game Facts|\"DoktorFroid\"|\"LeFloid\"|\"Vid...  145831  12647       121   \n",
      "9  The Tonight Show|\"Jimmy Fallon\"|\"Jason Momoa\"|...  878157  11424       171   \n",
      "\n",
      "   comment_count                                  thumbnail_link  \\\n",
      "0            386  https://i.ytimg.com/vi/LfAZtfAqpxc/default.jpg   \n",
      "1           1923  https://i.ytimg.com/vi/UrhqmMRv1gQ/default.jpg   \n",
      "2            719  https://i.ytimg.com/vi/LctCTZKdO18/default.jpg   \n",
      "3            310  https://i.ytimg.com/vi/HdCPQk0jj3k/default.jpg   \n",
      "4           1767  https://i.ytimg.com/vi/siJKkohoFLg/default.jpg   \n",
      "5           2298  https://i.ytimg.com/vi/Eq6ijRAJRRs/default.jpg   \n",
      "6            357  https://i.ytimg.com/vi/yuRppUasjes/default.jpg   \n",
      "7            392  https://i.ytimg.com/vi/Uj6iT_zQTk8/default.jpg   \n",
      "8            241  https://i.ytimg.com/vi/CSxaVoBXwNI/default.jpg   \n",
      "9            770  https://i.ytimg.com/vi/NkgW3SLLZgU/default.jpg   \n",
      "\n",
      "   comments_disabled  ratings_disabled  video_error_or_removed  \\\n",
      "0                  0                 0                       0   \n",
      "1                  0                 0                       0   \n",
      "2                  0                 0                       0   \n",
      "3                  0                 0                       0   \n",
      "4                  0                 0                       0   \n",
      "5                  0                 0                       0   \n",
      "6                  0                 0                       0   \n",
      "7                  0                 0                       0   \n",
      "8                  0                 0                       0   \n",
      "9                  0                 0                       0   \n",
      "\n",
      "                                         description country  log_views  \\\n",
      "0  Coup für Amazon: Der Onlinehändler hat sich di...      DE  11.096303   \n",
      "1  Get 10% off a Squarespace website: http://bit....      CA  12.708232   \n",
      "2  Preston reviews the History Channel's new seri...      GB  11.090675   \n",
      "3  Abonnez-vous (https://goo.gl/nXSYoz) et pensez...      FR  10.434204   \n",
      "4  Las noticias y tendencias en redes sociales má...      MX  11.811614   \n",
      "5  Game of Thrones saison 8 épisode 1 : informati...      FR  10.034209   \n",
      "6  In unseren heutigen Film News gibt es Neuigkei...      DE  10.524602   \n",
      "7  Couple of interesting names on this list..\\nSu...      CA  12.993068   \n",
      "8  Die Random Game Facts. Heute mit Olli, Frodo, ...      DE  11.890211   \n",
      "9  Jason Momoa discusses how his convincing turn ...      CA  13.685582   \n",
      "\n",
      "   log_likes  log_dislikes  log_comment_count           publish_timestamp  \n",
      "0   8.550048      4.143135           5.958425  2017-11-14 17:58:46.000000  \n",
      "1   9.713900      5.337538           7.562162  2017-11-27 16:36:36.000000  \n",
      "2   7.593374      4.615121           6.579251  2017-12-04 15:00:58.000000  \n",
      "3   7.889459      4.094345           5.739793  2017-12-21 05:00:00.000000  \n",
      "4   9.267382      4.653960           7.477604  2018-01-06 02:00:03.000000  \n",
      "5   8.698848      3.091042           7.740230  2018-01-06 21:30:51.000000  \n",
      "6   7.878534      2.944439           5.880533  2018-01-08 16:00:07.000000  \n",
      "7   8.832150      3.931826           5.973810  2018-01-12 17:44:12.000000  \n",
      "8   9.445254      4.804021           5.488938  2018-01-16 13:00:00.000000  \n",
      "9   9.343559      5.147494           6.647688  2018-01-23 13:00:02.000000  \n"
     ]
    }
   ],
   "source": [
    "print(ps.sqldf(q1, locals()))"
   ]
  },
  {
   "cell_type": "code",
   "execution_count": 11,
   "metadata": {},
   "outputs": [
    {
     "ename": "SyntaxError",
     "evalue": "invalid syntax (<ipython-input-11-5ec65156542f>, line 1)",
     "output_type": "error",
     "traceback": [
      "\u001b[1;36m  File \u001b[1;32m\"<ipython-input-11-5ec65156542f>\"\u001b[1;36m, line \u001b[1;32m1\u001b[0m\n\u001b[1;33m    print ps.pysqldf(\"SELECT * FROM df WHERE title LIKE \" \"%Game of Thrones%\"\" LIMIT 10;\").head()\u001b[0m\n\u001b[1;37m           ^\u001b[0m\n\u001b[1;31mSyntaxError\u001b[0m\u001b[1;31m:\u001b[0m invalid syntax\n"
     ]
    }
   ],
   "source": [
    "print ps.pysqldf(\"SELECT * FROM df WHERE title LIKE \" \"%Game of Thrones%\"\" LIMIT 10;\").head()"
   ]
  },
  {
   "cell_type": "code",
   "execution_count": 5,
   "metadata": {},
   "outputs": [
    {
     "name": "stdout",
     "output_type": "stream",
     "text": [
      "<class 'pandas.core.frame.DataFrame'>\n",
      "RangeIndex: 356350 entries, 0 to 356349\n",
      "Data columns (total 19 columns):\n",
      "video_id                  356350 non-null object\n",
      "trending_date             356350 non-null object\n",
      "title                     356350 non-null object\n",
      "channel_title             356350 non-null object\n",
      "category_id               356350 non-null int64\n",
      "category                  356350 non-null object\n",
      "publish_date              356350 non-null object\n",
      "publish_time              356350 non-null object\n",
      "tags                      356350 non-null object\n",
      "views                     356350 non-null int64\n",
      "likes                     356350 non-null int64\n",
      "dislikes                  356350 non-null int64\n",
      "comment_count             356350 non-null int64\n",
      "thumbnail_link            356350 non-null object\n",
      "comments_disabled         356350 non-null bool\n",
      "ratings_disabled          356350 non-null bool\n",
      "video_error_or_removed    356350 non-null bool\n",
      "description               356350 non-null object\n",
      "country                   356350 non-null object\n",
      "dtypes: bool(3), int64(5), object(11)\n",
      "memory usage: 44.5+ MB\n"
     ]
    }
   ],
   "source": [
    "df_all_timestamps.info()"
   ]
  },
  {
   "cell_type": "code",
   "execution_count": 27,
   "metadata": {
    "scrolled": true
   },
   "outputs": [
    {
     "data": {
      "text/plain": [
       "<matplotlib.axes._subplots.AxesSubplot at 0x2470081d7f0>"
      ]
     },
     "execution_count": 27,
     "metadata": {},
     "output_type": "execute_result"
    },
    {
     "data": {
      "image/png": "[encoded data removed]",
      "text/plain": [
       "<Figure size 720x720 with 1 Axes>"
      ]
     },
     "metadata": {},
     "output_type": "display_data"
    }
   ],
   "source": [
    "plt.figure(figsize = (10,10))\n",
    "sns.boxplot(x = \"category\", y = 'log_views', data = df)"
   ]
  },
  {
   "cell_type": "code",
   "execution_count": null,
   "metadata": {},
   "outputs": [],
   "source": []
  },
  {
   "cell_type": "code",
   "execution_count": 22,
   "metadata": {},
   "outputs": [
    {
     "data": {
      "image/png": "[encoded data removed]",
      "text/plain": [
       "<Figure size 842.4x595.44 with 1 Axes>"
      ]
     },
     "metadata": {},
     "output_type": "display_data"
    }
   ],
   "source": [
    "sns.set(rc={'figure.figsize':(11.7,8.27)}, style = 'darkgrid')\n",
    "ax = sns.countplot(y = 'category', data = df)\n"
   ]
  },
  {
   "cell_type": "code",
   "execution_count": 1,
   "metadata": {},
   "outputs": [
    {
     "ename": "NameError",
     "evalue": "name 'sns' is not defined",
     "output_type": "error",
     "traceback": [
      "\u001b[1;31m---------------------------------------------------------------------------\u001b[0m",
      "\u001b[1;31mNameError\u001b[0m                                 Traceback (most recent call last)",
      "\u001b[1;32m<ipython-input-1-3d2cbfac96c0>\u001b[0m in \u001b[0;36m<module>\u001b[1;34m\u001b[0m\n\u001b[1;32m----> 1\u001b[1;33m \u001b[0msns\u001b[0m\u001b[1;33m.\u001b[0m\u001b[0mboxplot\u001b[0m\u001b[1;33m(\u001b[0m\u001b[0my\u001b[0m \u001b[1;33m=\u001b[0m \u001b[1;34m\"category\"\u001b[0m\u001b[1;33m,\u001b[0m \u001b[0mx\u001b[0m \u001b[1;33m=\u001b[0m \u001b[1;34m'log_views'\u001b[0m\u001b[1;33m,\u001b[0m \u001b[0mdata\u001b[0m \u001b[1;33m=\u001b[0m \u001b[0mdf\u001b[0m\u001b[1;33m)\u001b[0m\u001b[1;33m\u001b[0m\u001b[1;33m\u001b[0m\u001b[0m\n\u001b[0m",
      "\u001b[1;31mNameError\u001b[0m: name 'sns' is not defined"
     ]
    }
   ],
   "source": [
    "sns.boxplot(y = \"category\", x = 'log_views', data = df)"
   ]
  },
  {
   "cell_type": "code",
   "execution_count": 7,
   "metadata": {},
   "outputs": [
    {
     "data": {
      "text/html": [
       "<div>\n",
       "<style scoped>\n",
       "    .dataframe tbody tr th:only-of-type {\n",
       "        vertical-align: middle;\n",
       "    }\n",
       "\n",
       "    .dataframe tbody tr th {\n",
       "        vertical-align: top;\n",
       "    }\n",
       "\n",
       "    .dataframe thead th {\n",
       "        text-align: right;\n",
       "    }\n",
       "</style>\n",
       "<table border=\"1\" class=\"dataframe\">\n",
       "  <thead>\n",
       "    <tr style=\"text-align: right;\">\n",
       "      <th></th>\n",
       "      <th>video_id</th>\n",
       "      <th>trending_date</th>\n",
       "      <th>title</th>\n",
       "      <th>channel_title</th>\n",
       "      <th>category_id</th>\n",
       "      <th>category</th>\n",
       "      <th>publish_date</th>\n",
       "      <th>publish_time</th>\n",
       "      <th>tags</th>\n",
       "      <th>views</th>\n",
       "      <th>likes</th>\n",
       "      <th>dislikes</th>\n",
       "      <th>comment_count</th>\n",
       "      <th>thumbnail_link</th>\n",
       "      <th>comments_disabled</th>\n",
       "      <th>ratings_disabled</th>\n",
       "      <th>video_error_or_removed</th>\n",
       "      <th>description</th>\n",
       "      <th>country</th>\n",
       "      <th>log_views</th>\n",
       "      <th>log_likes</th>\n",
       "      <th>log_dislikes</th>\n",
       "      <th>log_comment_count</th>\n",
       "    </tr>\n",
       "  </thead>\n",
       "  <tbody>\n",
       "  </tbody>\n",
       "</table>\n",
       "</div>"
      ],
      "text/plain": [
       "Empty DataFrame\n",
       "Columns: [video_id, trending_date, title, channel_title, category_id, category, publish_date, publish_time, tags, views, likes, dislikes, comment_count, thumbnail_link, comments_disabled, ratings_disabled, video_error_or_removed, description, country, log_views, log_likes, log_dislikes, log_comment_count]\n",
       "Index: []"
      ]
     },
     "execution_count": 7,
     "metadata": {},
     "output_type": "execute_result"
    }
   ],
   "source": []
  },
  {
   "cell_type": "code",
   "execution_count": 17,
   "metadata": {},
   "outputs": [
    {
     "data": {
      "text/plain": [
       "<seaborn.axisgrid.FacetGrid at 0x2443ea76160>"
      ]
     },
     "execution_count": 17,
     "metadata": {},
     "output_type": "execute_result"
    },
    {
     "data": {
      "image/png": "[encoded data removed]",
      "text/plain": [
       "<Figure size 555.5x504 with 1 Axes>"
      ]
     },
     "metadata": {
      "needs_background": "light"
     },
     "output_type": "display_data"
    }
   ],
   "source": []
  },
  {
   "cell_type": "code",
   "execution_count": null,
   "metadata": {},
   "outputs": [],
   "source": []
  },
  {
   "cell_type": "code",
   "execution_count": 21,
   "metadata": {},
   "outputs": [
    {
     "ename": "SyntaxError",
     "evalue": "invalid syntax (<ipython-input-21-c82a47831d43>, line 4)",
     "output_type": "error",
     "traceback": [
      "\u001b[1;36m  File \u001b[1;32m\"<ipython-input-21-c82a47831d43>\"\u001b[1;36m, line \u001b[1;32m4\u001b[0m\n\u001b[1;33m    \u001b[0m\n\u001b[1;37m    ^\u001b[0m\n\u001b[1;31mSyntaxError\u001b[0m\u001b[1;31m:\u001b[0m invalid syntax\n"
     ]
    }
   ],
   "source": [
    "\n"
   ]
  },
  {
   "cell_type": "code",
   "execution_count": null,
   "metadata": {},
   "outputs": [],
   "source": []
  }
 ],
 "metadata": {
  "kernelspec": {
   "display_name": "Python 3",
   "language": "python",
   "name": "python3"
  },
  "language_info": {
   "codemirror_mode": {
    "name": "ipython",
    "version": 3
   },
   "file_extension": ".py",
   "mimetype": "text/x-python",
   "name": "python",
   "nbconvert_exporter": "python",
   "pygments_lexer": "ipython3",
   "version": "3.7.3"
  }
 },
 "nbformat": 4,
 "nbformat_minor": 2
}
